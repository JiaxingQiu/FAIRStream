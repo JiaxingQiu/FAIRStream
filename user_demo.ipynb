{
 "cells": [
  {
   "cell_type": "code",
   "execution_count": 1,
   "metadata": {},
   "outputs": [],
   "source": [
    "import pandas as pd\n",
    "import FAIRStream"
   ]
  },
  {
   "cell_type": "code",
   "execution_count": 2,
   "metadata": {},
   "outputs": [],
   "source": [
    "bsi_stream = FAIRStream.FAIRStream('X:\\Joy\\BSI\\DeepDiag')"
   ]
  },
  {
   "cell_type": "code",
   "execution_count": 3,
   "metadata": {},
   "outputs": [
    {
     "name": "stdout",
     "output_type": "stream",
     "text": [
      "Querier can load and update study dictionaries! \n",
      "directories location: X:\\Joy\\BSI\\DeepDiag/dictionary\n",
      "\n",
      "\n",
      "Success: Querier has updated source dictionary!\n",
      "Success: Querier has updated variable dictionary!\n"
     ]
    }
   ],
   "source": [
    "print(bsi_stream.querier)\n",
    "print('\\n')\n",
    "bsi_stream.querier.update_source_dict()\n",
    "bsi_stream.querier.update_variable_dict()"
   ]
  },
  {
   "cell_type": "code",
   "execution_count": 4,
   "metadata": {},
   "outputs": [
    {
     "name": "stdout",
     "output_type": "stream",
     "text": [
      "Engineer is preparing unique subject id for the study! \n",
      "-- source: uva -- file: X:\\Joy\\BSI\\DeepDiag/data/bsi_old_deidentified_final.csv -- unique subjects #: 9954\n",
      "-- source: uva -- file: X:\\Joy\\BSI\\DeepDiag/data/uva_lab.csv -- unique subjects #: 5671\n",
      "-- source: uva -- intersection unique subjects #:5671\n",
      "-- source: mimic -- file: X:\\Joy\\BSI\\DeepDiag/data/mimic_patient_data_minutes.csv -- unique subjects #: 21203\n",
      "-- source: mimic -- file: X:\\Joy\\BSI\\DeepDiag/data/mimic_labs_minutes_combined.csv -- unique subjects #: 20422\n",
      "-- source: mimic -- intersection unique subjects #:20422\n",
      "Success: Engineer has new attribute uid_pool! \n"
     ]
    }
   ],
   "source": [
    "bsi_stream.engineer.set_uid()"
   ]
  },
  {
   "cell_type": "code",
   "execution_count": 6,
   "metadata": {},
   "outputs": [
    {
     "data": {
      "text/plain": [
       "{'uid': {'source_names': {'1': 'id',\n",
       "   '2': 'ID',\n",
       "   '3': 'subject_id',\n",
       "   '4': 'subject_id'},\n",
       "  'label': 'unique subject id for current study',\n",
       "  'attr': {'type': 'key',\n",
       "   'dtype': \"<class 'numpy.str_'>\",\n",
       "   'nlevel_min': 1,\n",
       "   'nlevel_max': None,\n",
       "   'unique_per_sbj': True}},\n",
       " 'time': {'source_names': {'1': 'tsa',\n",
       "   '2': 'tsa',\n",
       "   '3': 'timeMinutes',\n",
       "   '4': 'timeMinutes'},\n",
       "  'label': 'time since admission',\n",
       "  'attr': {'type': 'key',\n",
       "   'dtype': \"<class 'numpy.int32'>\",\n",
       "   'value_min': 0,\n",
       "   'value_max': None,\n",
       "   'unit': 'minute'}},\n",
       " 'y': {'source_names': {'2': 'True_positive', '4': 'True positive'},\n",
       "  'label': 'time since admission',\n",
       "  'attr': {'type': 'outcome',\n",
       "   'dtype': \"<class 'numpy.str_'>\",\n",
       "   'nlevel_min': 2,\n",
       "   'nlevel_max': None,\n",
       "   'unit': 'minute'}},\n",
       " 'age': {'source_names': {'1': 'age', '3': 'AGE'},\n",
       "  'label': 'subject age',\n",
       "  'attr': {'type': 'numeric',\n",
       "   'dtype': \"<class 'numpy.int32'>\",\n",
       "   'value_min': 0,\n",
       "   'value_max': 110,\n",
       "   'unit': 'year',\n",
       "   'include': True}},\n",
       " 'gender': {'source_names': {'1': 'Sex', '3': 'Sex'},\n",
       "  'label': 'subject gender',\n",
       "  'attr': {'type': 'factor',\n",
       "   'dtype': \"<class 'numpy.str_'>\",\n",
       "   'nlevel_min': 0,\n",
       "   'nlevel_max': 10,\n",
       "   'unique_per_sbj': True,\n",
       "   'include': True}},\n",
       " 'race': {'source_names': {'1': 'Race', '3': 'RACE'},\n",
       "  'label': 'subject race',\n",
       "  'attr': {'type': 'factor',\n",
       "   'dtype': \"<class 'numpy.str_'>\",\n",
       "   'nlevel_min': 0,\n",
       "   'nlevel_max': 20,\n",
       "   'unique_per_sbj': True,\n",
       "   'include': True}},\n",
       " 'ethnicity': {'source_names': {'0': 'Ethnicity'},\n",
       "  'label': 'subject ethnicity',\n",
       "  'attr': {'type': 'factor',\n",
       "   'dtype': \"<class 'numpy.str_'>\",\n",
       "   'nlevel_min': 0,\n",
       "   'nlevel_max': 10,\n",
       "   'unique_per_sbj': True,\n",
       "   'include': True}},\n",
       " 'temperature': {'source_names': {'1': 'Temp', '3': 'tempc'},\n",
       "  'label': 'subject body temperature',\n",
       "  'attr': {'type': 'numeric',\n",
       "   'dtype': \"<class 'numpy.float64'>\",\n",
       "   'value_min': 5,\n",
       "   'value_max': 60,\n",
       "   'unit': 'celsius',\n",
       "   'include': True}},\n",
       " 'heart_rate': {'source_names': {'1': 'hr', '3': 'heartrate'},\n",
       "  'label': 'subject heart rate',\n",
       "  'attr': {'type': 'numeric',\n",
       "   'dtype': \"<class 'numpy.int32'>\",\n",
       "   'value_min': 10,\n",
       "   'value_max': 200,\n",
       "   'unit': 'beats per minute',\n",
       "   'include': True}},\n",
       " 'systolic_blood_pressure': {'source_names': {'1': 'SBP', '3': 'sysbp'},\n",
       "  'label': 'subject systolic blood pressure',\n",
       "  'attr': {'type': 'numeric',\n",
       "   'dtype': \"<class 'numpy.float64'>\",\n",
       "   'value_min': 0,\n",
       "   'value_max': 100,\n",
       "   'unit': 'mm Hg',\n",
       "   'include': True}},\n",
       " 'diastolic_blood_pressure': {'source_names': {'1': 'DBP', '3': 'diasbp'},\n",
       "  'label': 'subject diastolic blood pressure',\n",
       "  'attr': {'type': 'numeric',\n",
       "   'dtype': \"<class 'numpy.float64'>\",\n",
       "   'value_min': 0,\n",
       "   'value_max': 100,\n",
       "   'unit': 'mm Hg',\n",
       "   'include': True}},\n",
       " 'resp_rate': {'source_names': {'1': 'rr', '3': 'resprate'},\n",
       "  'label': 'subject diastolic blood pressure',\n",
       "  'attr': {'type': 'numeric',\n",
       "   'dtype': \"<class 'numpy.float64'>\",\n",
       "   'value_min': 0,\n",
       "   'value_max': 200,\n",
       "   'unit': 'mm Hg',\n",
       "   'include': True}}}"
      ]
     },
     "execution_count": 6,
     "metadata": {},
     "output_type": "execute_result"
    }
   ],
   "source": [
    "bsi_stream.engineer.variable_dict"
   ]
  },
  {
   "cell_type": "code",
   "execution_count": 7,
   "metadata": {},
   "outputs": [
    {
     "name": "stdout",
     "output_type": "stream",
     "text": [
      "100 subjects are sampled from 26093 population without replacement \n"
     ]
    }
   ],
   "source": [
    "bsi_stream.engineer.prep_mvts(100)"
   ]
  },
  {
   "cell_type": "code",
   "execution_count": 8,
   "metadata": {},
   "outputs": [
    {
     "data": {
      "text/plain": [
       "['mimic_81025',\n",
       " 'mimic_88911',\n",
       " 'mimic_20906',\n",
       " 'mimic_67413',\n",
       " 'mimic_54750',\n",
       " 'mimic_32543',\n",
       " 'mimic_17842',\n",
       " 'mimic_11026',\n",
       " 'uva_3413',\n",
       " 'mimic_74945',\n",
       " 'mimic_28326',\n",
       " 'mimic_98276',\n",
       " 'uva_9332',\n",
       " 'mimic_28291',\n",
       " 'mimic_18595',\n",
       " 'mimic_54681',\n",
       " 'mimic_48882',\n",
       " 'mimic_78934',\n",
       " 'uva_4278',\n",
       " 'mimic_43099',\n",
       " 'mimic_90449',\n",
       " 'mimic_81597',\n",
       " 'mimic_81546',\n",
       " 'mimic_19826',\n",
       " 'mimic_85083',\n",
       " 'mimic_75323',\n",
       " 'mimic_99819',\n",
       " 'mimic_3442',\n",
       " 'mimic_7683',\n",
       " 'mimic_89165',\n",
       " 'mimic_28133',\n",
       " 'mimic_73512',\n",
       " 'mimic_5881',\n",
       " 'mimic_43820',\n",
       " 'mimic_49976',\n",
       " 'uva_4050',\n",
       " 'mimic_19344',\n",
       " 'mimic_27624',\n",
       " 'uva_2793',\n",
       " 'mimic_49106',\n",
       " 'mimic_88632',\n",
       " 'mimic_14621',\n",
       " 'mimic_74869',\n",
       " 'uva_3189',\n",
       " 'mimic_18455',\n",
       " 'mimic_20634',\n",
       " 'mimic_21280',\n",
       " 'uva_4281',\n",
       " 'mimic_4624',\n",
       " 'mimic_26527',\n",
       " 'uva_9386',\n",
       " 'uva_4417',\n",
       " 'mimic_86749',\n",
       " 'mimic_8591',\n",
       " 'mimic_86810',\n",
       " 'mimic_32169',\n",
       " 'mimic_2229',\n",
       " 'mimic_328',\n",
       " 'mimic_9503',\n",
       " 'mimic_79423',\n",
       " 'mimic_52379',\n",
       " 'mimic_89992',\n",
       " 'uva_8265',\n",
       " 'mimic_94661',\n",
       " 'mimic_72908',\n",
       " 'uva_5580',\n",
       " 'mimic_13438',\n",
       " 'mimic_91121',\n",
       " 'mimic_55440',\n",
       " 'mimic_12786',\n",
       " 'mimic_60991',\n",
       " 'mimic_7842',\n",
       " 'mimic_3882',\n",
       " 'mimic_9919',\n",
       " 'mimic_15923',\n",
       " 'mimic_17224',\n",
       " 'mimic_16850',\n",
       " 'mimic_25158',\n",
       " 'mimic_14773',\n",
       " 'mimic_51943',\n",
       " 'mimic_32664',\n",
       " 'mimic_47183',\n",
       " 'mimic_18745',\n",
       " 'uva_1381',\n",
       " 'uva_8466',\n",
       " 'mimic_46156',\n",
       " 'mimic_5398',\n",
       " 'mimic_36',\n",
       " 'mimic_28038',\n",
       " 'mimic_67427',\n",
       " 'mimic_44863',\n",
       " 'mimic_14565',\n",
       " 'mimic_21907',\n",
       " 'mimic_30398',\n",
       " 'mimic_24872',\n",
       " 'mimic_3932',\n",
       " 'mimic_7766',\n",
       " 'mimic_10323',\n",
       " 'mimic_6212',\n",
       " 'mimic_7228']"
      ]
     },
     "execution_count": 8,
     "metadata": {},
     "output_type": "execute_result"
    }
   ],
   "source": [
    "bsi_stream.engineer.uid_sub"
   ]
  },
  {
   "cell_type": "code",
   "execution_count": null,
   "metadata": {},
   "outputs": [],
   "source": []
  }
 ],
 "metadata": {
  "kernelspec": {
   "display_name": "Python 3",
   "language": "python",
   "name": "python3"
  },
  "language_info": {
   "codemirror_mode": {
    "name": "ipython",
    "version": 3
   },
   "file_extension": ".py",
   "mimetype": "text/x-python",
   "name": "python",
   "nbconvert_exporter": "python",
   "pygments_lexer": "ipython3",
   "version": "3.8.8"
  }
 },
 "nbformat": 4,
 "nbformat_minor": 2
}
