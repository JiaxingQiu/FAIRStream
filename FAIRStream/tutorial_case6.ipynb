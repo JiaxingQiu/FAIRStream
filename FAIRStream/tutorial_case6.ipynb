{
 "cells": [
  {
   "cell_type": "code",
   "execution_count": 1,
   "metadata": {},
   "outputs": [],
   "source": [
    "import tensorflow as tf\n",
    "from tensorflow import keras\n",
    "from tensorflow.keras.callbacks import EarlyStopping\n",
    "import matplotlib.pyplot as plt\n",
    "import pandas as pd\n",
    "import numpy as np\n",
    "import matplotlib.pyplot as plt\n",
    "import seaborn as sns\n",
    "sns.set_style('whitegrid')\n",
    "import scipy\n",
    "from matplotlib import colors\n",
    "\n",
    "import FAIRStream"
   ]
  },
  {
   "cell_type": "code",
   "execution_count": 2,
   "metadata": {},
   "outputs": [],
   "source": [
    "# csv pool folder directory\n",
    "csv_pool_path = '/Users/jiaxingqiu/Documents/CAMA_projects/BSI/code/projects/csv_pool'\n",
    "# current experiment working directory\n",
    "work_dir = '/Users/jiaxingqiu/Documents/CAMA_projects/BSI/code/projects/case_txp'"
   ]
  },
  {
   "cell_type": "code",
   "execution_count": 3,
   "metadata": {},
   "outputs": [
    {
     "name": "stdout",
     "output_type": "stream",
     "text": [
      "Success: Querier has initiated a csv source dictionary in:/Users/jiaxingqiu/Documents/CAMA_projects/BSI/code/projects/case_txp/meta_data/csv_source_dict_demo.json\n",
      "Success: Querier has initiated a variable dictionary in:/Users/jiaxingqiu/Documents/CAMA_projects/BSI/code/projects/case_txp/meta_data/variable_dict_demo.json\n",
      "Unable to read sql source dictionary. Use Querier.update_sql_source_dict() to build one.\n"
     ]
    },
    {
     "data": {
      "text/plain": [
       "{'__uid': {'src_names': ['id', 'ID', 'subject_id', 'subject_id'],\n",
       "  'label': 'unique subject id for current study',\n",
       "  'unique_per_sbj': True},\n",
       " '__time': {'src_names': ['tsa', 'tsa', 'timeMinutes', 'timeMinutes'],\n",
       "  'label': 'time since admission',\n",
       "  'unit': 'minute'},\n",
       " '__anchor': {'src_names': ['True_positive', 'True positive'],\n",
       "  'label': 'anchor for an episode',\n",
       "  'unique_per_sbj': False,\n",
       "  'factor': {'levels': {'__neg_nbc': ['0', '0.0', 'nan'],\n",
       "    '__pos': ['1', '1.0']},\n",
       "   'impute_per_sbj': {'nan_level': '__neg_nbc'}}},\n",
       " 'y': {'output': True,\n",
       "  'src_names': ['True_positive', 'True positive'],\n",
       "  'label': 'Event outcome result',\n",
       "  'unique_per_sbj': False,\n",
       "  'factor': {'levels': {'neg_nbc': ['0', '0.0', 'nan'], 'pos': ['1', '1.0']},\n",
       "   'impute_per_sbj': {'nan_level': 'neg_nbc'}}},\n",
       " 'txp': {'input': True,\n",
       "  'src_names': ['Confirmed Txp'],\n",
       "  'label': 'Transplant recipient',\n",
       "  'unique_per_sbj': True,\n",
       "  'factor': {'levels': {'no': ['0', '0.0', 'nan'], 'yes': ['1', '1.0']},\n",
       "   'impute_per_sbj': {'nan_level': 'no'}}},\n",
       " 'age': {'input': True,\n",
       "  'src_names': ['age', 'AGE'],\n",
       "  'label': 'age at admission',\n",
       "  'unique_per_sbj': True,\n",
       "  'numeric': {'scaler': 'none',\n",
       "   'unit': 'year',\n",
       "   'cutoff': {'quantile_min': 0.0001,\n",
       "    'quantile_max': 0.9999,\n",
       "    'value_min': 0,\n",
       "    'value_max': 110},\n",
       "   'impute_per_sbj': {'forward': 0, 'backward': 0}}},\n",
       " 'temp': {'input': True,\n",
       "  'src_names': ['Temp', 'tempc'],\n",
       "  'label': 'subject body temperature',\n",
       "  'unique_per_sbj': False,\n",
       "  'numeric': {'scaler': 'none',\n",
       "   'unit': 'celsius',\n",
       "   'cutoff': {'quantile_min': 0.0001,\n",
       "    'quantile_max': 0.9999,\n",
       "    'value_min': 33,\n",
       "    'value_max': 50},\n",
       "   'impute_per_sbj': {'forward': 1440, 'backward': 720}}},\n",
       " 'heart_rate': {'input': True,\n",
       "  'src_names': ['hr', 'heartrate'],\n",
       "  'label': 'subject heart rate',\n",
       "  'unique_per_sbj': False,\n",
       "  'numeric': {'scaler': 'none',\n",
       "   'unit': 'beats per minute',\n",
       "   'cutoff': {'quantile_min': 0.0001,\n",
       "    'quantile_max': 0.9999,\n",
       "    'value_min': 10,\n",
       "    'value_max': 200},\n",
       "   'impute_per_sbj': {'forward': 1440, 'backward': 720}}},\n",
       " 'resp_rate': {'input': True,\n",
       "  'src_names': ['rr', 'resprate'],\n",
       "  'label': 'subject respiratory rate',\n",
       "  'unique_per_sbj': False,\n",
       "  'numeric': {'scaler': 'none',\n",
       "   'cutoff': {'quantile_min': 0.0001,\n",
       "    'quantile_max': 0.9999,\n",
       "    'value_min': 0,\n",
       "    'value_max': 200},\n",
       "   'unit': 'mm Hg',\n",
       "   'impute_per_sbj': {'forward': 1440, 'backward': 720}}},\n",
       " 'spo2': {'input': True,\n",
       "  'src_names': ['so2'],\n",
       "  'label': 'SpO2',\n",
       "  'unique_per_sbj': False,\n",
       "  'numeric': {'scaler': 'none',\n",
       "   'cutoff': {'quantile_min': 0.0001,\n",
       "    'quantile_max': 0.9999,\n",
       "    'value_min': 0,\n",
       "    'value_max': 79},\n",
       "   'unit': '',\n",
       "   'impute_per_sbj': {'forward': 1440, 'backward': 720}}},\n",
       " 'x_hr_rr': {'input': True,\n",
       "  'src_names': ['x.hr.rr'],\n",
       "  'label': 'cross correlation between HR and resp_rate',\n",
       "  'unique_per_sbj': False,\n",
       "  'numeric': {'scaler': 'none',\n",
       "   'unit': '',\n",
       "   'cutoff': {'quantile_min': 0.0,\n",
       "    'quantile_max': 1,\n",
       "    'value_min': -1,\n",
       "    'value_max': 1},\n",
       "   'impute_per_sbj': {'forward': 1440, 'backward': 720}}},\n",
       " 'x_hr_spo2': {'input': True,\n",
       "  'src_names': ['x.hr.spo2'],\n",
       "  'label': 'cross correlation between HR and spo2',\n",
       "  'unique_per_sbj': False,\n",
       "  'numeric': {'scaler': 'none',\n",
       "   'unit': '',\n",
       "   'cutoff': {'quantile_min': 0.0,\n",
       "    'quantile_max': 1,\n",
       "    'value_min': -1,\n",
       "    'value_max': 1},\n",
       "   'impute_per_sbj': {'forward': 1440, 'backward': 720}}},\n",
       " 'x_rr_spo2': {'input': True,\n",
       "  'src_names': ['x.hr.spo2'],\n",
       "  'label': 'cross correlation between resp_rate and spo2',\n",
       "  'unique_per_sbj': False,\n",
       "  'numeric': {'scaler': 'none',\n",
       "   'unit': '',\n",
       "   'cutoff': {'quantile_min': 0.0,\n",
       "    'quantile_max': 1,\n",
       "    'value_min': -1,\n",
       "    'value_max': 1},\n",
       "   'impute_per_sbj': {'forward': 1440, 'backward': 720}}},\n",
       " 's_hr': {'input': True,\n",
       "  'src_names': ['s.hr'],\n",
       "  'label': 'HR sd',\n",
       "  'unique_per_sbj': False,\n",
       "  'numeric': {'scaler': 'none',\n",
       "   'unit': '',\n",
       "   'cutoff': {'quantile_min': 0.0,\n",
       "    'quantile_max': 1,\n",
       "    'value_min': -99999,\n",
       "    'value_max': 99999},\n",
       "   'impute_per_sbj': {'forward': 1440, 'backward': 720}}},\n",
       " 's_rr': {'input': True,\n",
       "  'src_names': ['s.rr'],\n",
       "  'label': 'resp_rate sd',\n",
       "  'unique_per_sbj': False,\n",
       "  'numeric': {'scaler': 'none',\n",
       "   'unit': '',\n",
       "   'cutoff': {'quantile_min': 0.0,\n",
       "    'quantile_max': 1,\n",
       "    'value_min': -99999,\n",
       "    'value_max': 99999},\n",
       "   'impute_per_sbj': {'forward': 1440, 'backward': 720}}},\n",
       " 's_so2': {'input': True,\n",
       "  'src_names': ['s.so2'],\n",
       "  'label': 'SPO2 sd',\n",
       "  'unique_per_sbj': False,\n",
       "  'numeric': {'scaler': 'none',\n",
       "   'unit': '',\n",
       "   'cutoff': {'quantile_min': 0.0,\n",
       "    'quantile_max': 1,\n",
       "    'value_min': -99999,\n",
       "    'value_max': 99999},\n",
       "   'impute_per_sbj': {'forward': 1440, 'backward': 720}}},\n",
       " 'systolic_blood_pressure': {'input': True,\n",
       "  'src_names': ['SBP', 'sysbp'],\n",
       "  'label': 'subject systolic blood pressure',\n",
       "  'unique_per_sbj': False,\n",
       "  'numeric': {'scaler': 'none',\n",
       "   'unit': 'mm Hg',\n",
       "   'cutoff': {'quantile_min': 0.0001,\n",
       "    'quantile_max': 0.9999,\n",
       "    'value_min': 40,\n",
       "    'value_max': 250},\n",
       "   'impute_per_sbj': {'forward': 1440, 'backward': 720}}},\n",
       " 'diastolic_blood_pressure': {'input': True,\n",
       "  'src_names': ['DBP', 'diasbp'],\n",
       "  'label': 'subject diastolic blood pressure',\n",
       "  'unique_per_sbj': False,\n",
       "  'numeric': {'scaler': 'none',\n",
       "   'unit': 'mm Hg',\n",
       "   'cutoff': {'quantile_min': 0.0001,\n",
       "    'quantile_max': 0.9999,\n",
       "    'value_min': 26,\n",
       "    'value_max': 150},\n",
       "   'impute_per_sbj': {'forward': 1440, 'backward': 720}}},\n",
       " 'glucose': {'input': True,\n",
       "  'src_names': ['GLUCOSE', 'Glucose'],\n",
       "  'label': 'Glucose',\n",
       "  'unique_per_sbj': False,\n",
       "  'numeric': {'scaler': 'none',\n",
       "   'cutoff': {'quantile_min': 0.0001,\n",
       "    'quantile_max': 0.9999,\n",
       "    'value_min': 49,\n",
       "    'value_max': 460},\n",
       "   'unit': '',\n",
       "   'impute_per_sbj': {'forward': 2880, 'backward': 1440}}},\n",
       " 'bilirubin': {'input': True,\n",
       "  'src_names': ['TOTAL.BILIRUBIN', 'bilirubin'],\n",
       "  'label': 'Bilirubin',\n",
       "  'unique_per_sbj': False,\n",
       "  'numeric': {'scaler': 'none',\n",
       "   'cutoff': {'quantile_min': 0.0001,\n",
       "    'quantile_max': 0.9999,\n",
       "    'value_min': 0,\n",
       "    'value_max': 50},\n",
       "   'unit': '',\n",
       "   'impute_per_sbj': {'forward': 2880, 'backward': 1440}}},\n",
       " 'potassium': {'input': True,\n",
       "  'src_names': ['POTASSIUM', 'Potassium'],\n",
       "  'label': 'Potassium',\n",
       "  'unique_per_sbj': False,\n",
       "  'numeric': {'scaler': 'none',\n",
       "   'cutoff': {'quantile_min': 0.0001,\n",
       "    'quantile_max': 0.9999,\n",
       "    'value_min': 2.4,\n",
       "    'value_max': 6.6},\n",
       "   'unit': '',\n",
       "   'impute_per_sbj': {'forward': 2880, 'backward': 1440}}},\n",
       " 'albumin': {'input': True,\n",
       "  'src_names': ['Albumin', 'ALBUMIN'],\n",
       "  'label': 'Albumin',\n",
       "  'unique_per_sbj': False,\n",
       "  'numeric': {'scaler': 'none',\n",
       "   'cutoff': {'quantile_min': 0.0001,\n",
       "    'quantile_max': 0.9999,\n",
       "    'value_min': 0,\n",
       "    'value_max': 5},\n",
       "   'unit': '',\n",
       "   'impute_per_sbj': {'forward': 2880, 'backward': 1440}}},\n",
       " 'calcium': {'input': True,\n",
       "  'src_names': ['CALCIUM', 'Calcium'],\n",
       "  'label': 'Calcium',\n",
       "  'unique_per_sbj': False,\n",
       "  'numeric': {'scaler': 'none',\n",
       "   'cutoff': {'quantile_min': 0.0001,\n",
       "    'quantile_max': 0.9999,\n",
       "    'value_min': 6.1,\n",
       "    'value_max': 12},\n",
       "   'unit': '',\n",
       "   'impute_per_sbj': {'forward': 2880, 'backward': 1440}}},\n",
       " 'sodium': {'input': True,\n",
       "  'src_names': ['SODIUM', 'Sodium'],\n",
       "  'label': 'Sodium',\n",
       "  'unique_per_sbj': False,\n",
       "  'numeric': {'scaler': 'none',\n",
       "   'cutoff': {'quantile_min': 0.0001,\n",
       "    'quantile_max': 0.9999,\n",
       "    'value_min': 119,\n",
       "    'value_max': 172},\n",
       "   'unit': '',\n",
       "   'impute_per_sbj': {'forward': 2880, 'backward': 1440}}},\n",
       " 'wbc': {'input': True,\n",
       "  'src_names': ['WHITE.BLOOD.CELL.COUNT', 'WBC'],\n",
       "  'label': 'WBC',\n",
       "  'unique_per_sbj': False,\n",
       "  'numeric': {'scaler': 'none',\n",
       "   'cutoff': {'quantile_min': 0.0001,\n",
       "    'quantile_max': 0.9999,\n",
       "    'value_min': 0,\n",
       "    'value_max': 33.85},\n",
       "   'unit': '',\n",
       "   'impute_per_sbj': {'forward': 2880, 'backward': 1440}}},\n",
       " 'phosphorus': {'input': True,\n",
       "  'src_names': ['PHOSPHORUS'],\n",
       "  'label': 'Phosphorus',\n",
       "  'unique_per_sbj': False,\n",
       "  'numeric': {'scaler': 'none',\n",
       "   'cutoff': {'quantile_min': 0.0001,\n",
       "    'quantile_max': 0.9999,\n",
       "    'value_min': 5,\n",
       "    'value_max': 8},\n",
       "   'unit': '',\n",
       "   'impute_per_sbj': {'forward': 2880, 'backward': 1440}}},\n",
       " 'protin_inr': {'input': True,\n",
       "  'src_names': ['PROTIME_INR'],\n",
       "  'label': 'Protin_inr',\n",
       "  'unique_per_sbj': False,\n",
       "  'numeric': {'scaler': 'none',\n",
       "   'cutoff': {'quantile_min': 0.0001,\n",
       "    'quantile_max': 0.9999,\n",
       "    'value_min': 0,\n",
       "    'value_max': 5},\n",
       "   'unit': '',\n",
       "   'impute_per_sbj': {'forward': 2880, 'backward': 1440}}},\n",
       " 'creatinine': {'input': True,\n",
       "  'src_names': ['CREATININE', 'Creatinine'],\n",
       "  'label': 'Creatinine',\n",
       "  'unique_per_sbj': False,\n",
       "  'numeric': {'scaler': 'none',\n",
       "   'cutoff': {'quantile_min': 0.0001,\n",
       "    'quantile_max': 0.9999,\n",
       "    'value_min': 0,\n",
       "    'value_max': 10},\n",
       "   'unit': '',\n",
       "   'impute_per_sbj': {'forward': 2880, 'backward': 1440}}},\n",
       " 'platelet_count': {'input': True,\n",
       "  'src_names': ['PLATELET.COUNT', 'plateletcount'],\n",
       "  'label': 'PlateletCount',\n",
       "  'unique_per_sbj': False,\n",
       "  'numeric': {'scaler': 'none',\n",
       "   'cutoff': {'quantile_min': 0.0001,\n",
       "    'quantile_max': 0.9999,\n",
       "    'value_min': 0,\n",
       "    'value_max': 1001},\n",
       "   'unit': '',\n",
       "   'impute_per_sbj': {'forward': 2880, 'backward': 1440}}},\n",
       " 'alt': {'input': True,\n",
       "  'src_names': ['ALT.GPT', 'ALT'],\n",
       "  'label': 'ALT',\n",
       "  'unique_per_sbj': False,\n",
       "  'numeric': {'scaler': 'none',\n",
       "   'cutoff': {'quantile_min': 0.0001,\n",
       "    'quantile_max': 0.9999,\n",
       "    'value_min': 0,\n",
       "    'value_max': 1085},\n",
       "   'unit': '',\n",
       "   'impute_per_sbj': {'forward': 2880, 'backward': 1440}}},\n",
       " 'alp': {'input': True,\n",
       "  'src_names': ['ALKALINE.PHOSPHATASE', 'ALP'],\n",
       "  'label': 'ALP',\n",
       "  'unique_per_sbj': False,\n",
       "  'numeric': {'scaler': 'none',\n",
       "   'cutoff': {'quantile_min': 0.0001,\n",
       "    'quantile_max': 0.9999,\n",
       "    'value_min': 0,\n",
       "    'value_max': 800},\n",
       "   'unit': '',\n",
       "   'impute_per_sbj': {'forward': 2880, 'backward': 1440}}},\n",
       " 'ast': {'input': True,\n",
       "  'src_names': ['AST.GOT', 'AST'],\n",
       "  'label': 'AST',\n",
       "  'unique_per_sbj': False,\n",
       "  'numeric': {'scaler': 'none',\n",
       "   'cutoff': {'quantile_min': 0.0001,\n",
       "    'quantile_max': 0.9999,\n",
       "    'value_min': 0,\n",
       "    'value_max': 1203},\n",
       "   'unit': '',\n",
       "   'impute_per_sbj': {'forward': 2880, 'backward': 1440}}},\n",
       " 'pco2': {'input': True,\n",
       "  'src_names': ['PCO2', 'PaCO2'],\n",
       "  'label': 'PCO2',\n",
       "  'unique_per_sbj': False,\n",
       "  'numeric': {'scaler': 'none',\n",
       "   'cutoff': {'quantile_min': 0.0001,\n",
       "    'quantile_max': 0.9999,\n",
       "    'value_min': 0,\n",
       "    'value_max': 100.5},\n",
       "   'unit': '',\n",
       "   'impute_per_sbj': {'forward': 2880, 'backward': 1440}}},\n",
       " 'chloride': {'input': True,\n",
       "  'src_names': ['CHLORIDE', 'Chloride'],\n",
       "  'label': 'Chloride',\n",
       "  'unique_per_sbj': False,\n",
       "  'numeric': {'scaler': 'none',\n",
       "   'cutoff': {'quantile_min': 0.0001,\n",
       "    'quantile_max': 0.9999,\n",
       "    'value_min': 83,\n",
       "    'value_max': 132},\n",
       "   'unit': '',\n",
       "   'impute_per_sbj': {'forward': 2880, 'backward': 1440}}},\n",
       " 'troponin': {'input': True,\n",
       "  'src_names': ['TROPONIN.I', 'Troponin'],\n",
       "  'label': 'Troponin',\n",
       "  'unique_per_sbj': False,\n",
       "  'numeric': {'scaler': 'none',\n",
       "   'cutoff': {'quantile_min': 0.0001,\n",
       "    'quantile_max': 0.9999,\n",
       "    'value_min': 0,\n",
       "    'value_max': 23.5},\n",
       "   'unit': '',\n",
       "   'impute_per_sbj': {'forward': 2880, 'backward': 1440}}},\n",
       " 'ptt': {'input': True,\n",
       "  'src_names': ['PARTIAL.THROMBOPLASTIN.TIME', 'PTT'],\n",
       "  'label': 'partial_thromboplastin_time',\n",
       "  'unique_per_sbj': False,\n",
       "  'numeric': {'scaler': 'none',\n",
       "   'cutoff': {'quantile_min': 0.0001,\n",
       "    'quantile_max': 0.9999,\n",
       "    'value_min': 0,\n",
       "    'value_max': 140},\n",
       "   'unit': '',\n",
       "   'impute_per_sbj': {'forward': 2880, 'backward': 1440}}},\n",
       " 'lactate': {'input': True,\n",
       "  'src_names': ['Lactate', 'LACTIC.ACID'],\n",
       "  'label': 'Lactate',\n",
       "  'unique_per_sbj': False,\n",
       "  'numeric': {'scaler': 'none',\n",
       "   'cutoff': {'quantile_min': 0.0001,\n",
       "    'quantile_max': 0.9999,\n",
       "    'value_min': 0,\n",
       "    'value_max': 19.1},\n",
       "   'unit': '',\n",
       "   'impute_per_sbj': {'forward': 2880, 'backward': 1440}}},\n",
       " 'bun': {'input': True,\n",
       "  'src_names': ['BLOOD.UREA.NITROGEN', 'BUN'],\n",
       "  'label': 'BUN',\n",
       "  'unique_per_sbj': False,\n",
       "  'numeric': {'scaler': 'none',\n",
       "   'cutoff': {'quantile_min': 0.0001,\n",
       "    'quantile_max': 0.9999,\n",
       "    'value_min': 0,\n",
       "    'value_max': 143},\n",
       "   'unit': '',\n",
       "   'impute_per_sbj': {'forward': 2880, 'backward': 1440}}},\n",
       " 'o2sat': {'input': True,\n",
       "  'src_names': ['OXYGEN_SATURATION'],\n",
       "  'label': 'Oxygen Satuation',\n",
       "  'unique_per_sbj': False,\n",
       "  'numeric': {'scaler': 'none',\n",
       "   'cutoff': {'quantile_min': 0.0001,\n",
       "    'quantile_max': 0.9999,\n",
       "    'value_min': 0,\n",
       "    'value_max': 17.6},\n",
       "   'unit': '',\n",
       "   'impute_per_sbj': {'forward': 2880, 'backward': 1440}}},\n",
       " 'magnesium': {'input': True,\n",
       "  'src_names': ['MAGNESIUM', 'Magnesium'],\n",
       "  'label': 'Magnesium',\n",
       "  'unique_per_sbj': False,\n",
       "  'numeric': {'scaler': 'none',\n",
       "   'cutoff': {'quantile_min': 0.0001,\n",
       "    'quantile_max': 0.9999,\n",
       "    'value_min': 0,\n",
       "    'value_max': 3.4},\n",
       "   'unit': '',\n",
       "   'impute_per_sbj': {'forward': 2880, 'backward': 1440}}}}"
      ]
     },
     "execution_count": 3,
     "metadata": {},
     "output_type": "execute_result"
    }
   ],
   "source": [
    "# initiate a FAIRStream object instance for BSI project\n",
    "bsi_stream = FAIRStream.FAIRStream(work_dir)\n",
    "# take a look at dictionaries in engineer's hands\n",
    "#bsi_stream.engineer.csv_source_dict\n",
    "bsi_stream.engineer.variable_dict"
   ]
  },
  {
   "cell_type": "code",
   "execution_count": 4,
   "metadata": {},
   "outputs": [
    {
     "name": "stdout",
     "output_type": "stream",
     "text": [
      " \n",
      "Success! An episode is defined to \n",
      "--- use 2880 minute(s) long input variables \n",
      "--- predict 1440 minute(s) response variables into the future\n",
      "--- lag 0 minute(s) between predictors and responses\n",
      "--- increase by every 60 minute(s)\n",
      "--- last at most 10080 minute(s) long\n",
      "Success! Engineer has updated attributes --- episode. \n"
     ]
    }
   ],
   "source": [
    "# define an episode (notice that the engineer now has new attributes)\n",
    "bsi_stream.engineer.DefineEpisode(input_time_len=2*24*60, # using vital signs and labs 4 days prior to a culture \n",
    "                                  output_time_len=24*60, # predict one time unit into the future\n",
    "                                  time_resolution=60, # aggregate minutely data to one row per hour \n",
    "                                  time_lag=0,  # no time lag between predictors and response\n",
    "                                  anchor_gap=7*24*60) # the minimum distance between two episodes"
   ]
  },
  {
   "cell_type": "code",
   "execution_count": 5,
   "metadata": {},
   "outputs": [
    {
     "name": "stdout",
     "output_type": "stream",
     "text": [
      "Success!  50 out of 5671 subjects are sampled from csv pool of size 26093 !\n",
      "--- fix upper boundary for age by nan\n",
      "--- fix lower boundary for age by nan\n",
      "--- fix upper boundary for temp by 50.0\n",
      "--- fix lower boundary for temp by 50.0\n",
      "--- fix upper boundary for heart_rate by nan\n",
      "--- fix lower boundary for heart_rate by nan\n",
      "--- fix upper boundary for resp_rate by nan\n",
      "--- fix lower boundary for resp_rate by nan\n",
      "--- fix upper boundary for spo2 by nan\n",
      "--- fix lower boundary for spo2 by nan\n",
      "--- fix upper boundary for x_hr_rr by nan\n",
      "--- fix lower boundary for x_hr_rr by nan\n",
      "--- fix upper boundary for s_hr by nan\n",
      "--- fix lower boundary for s_hr by nan\n",
      "--- fix upper boundary for s_rr by nan\n",
      "--- fix lower boundary for s_rr by nan\n",
      "--- fix upper boundary for s_so2 by nan\n",
      "--- fix lower boundary for s_so2 by nan\n",
      "--- fix upper boundary for systolic_blood_pressure by 249.0\n",
      "--- fix lower boundary for systolic_blood_pressure by 54.0\n",
      "--- fix upper boundary for diastolic_blood_pressure by 150.0\n",
      "--- fix lower boundary for diastolic_blood_pressure by 26.0\n",
      "--- fix upper boundary for glucose by nan\n",
      "--- fix lower boundary for glucose by nan\n",
      "--- fix upper boundary for bilirubin by nan\n",
      "--- fix lower boundary for bilirubin by nan\n",
      "--- fix upper boundary for potassium by nan\n",
      "--- fix lower boundary for potassium by nan\n",
      "--- fix upper boundary for albumin by nan\n",
      "--- fix lower boundary for albumin by nan\n",
      "--- fix upper boundary for calcium by nan\n",
      "--- fix lower boundary for calcium by nan\n",
      "--- fix upper boundary for sodium by nan\n",
      "--- fix lower boundary for sodium by nan\n",
      "--- fix upper boundary for wbc by nan\n",
      "--- fix lower boundary for wbc by nan\n",
      "--- fix upper boundary for phosphorus by nan\n",
      "--- fix lower boundary for phosphorus by nan\n",
      "--- fix upper boundary for creatinine by nan\n",
      "--- fix lower boundary for creatinine by nan\n",
      "--- fix upper boundary for platelet_count by nan\n",
      "--- fix lower boundary for platelet_count by nan\n",
      "--- fix upper boundary for alt by nan\n",
      "--- fix lower boundary for alt by nan\n",
      "--- fix upper boundary for alp by nan\n",
      "--- fix lower boundary for alp by nan\n",
      "--- fix upper boundary for ast by nan\n",
      "--- fix lower boundary for ast by nan\n",
      "--- fix upper boundary for pco2 by nan\n",
      "--- fix lower boundary for pco2 by nan\n",
      "--- fix upper boundary for chloride by nan\n",
      "--- fix lower boundary for chloride by nan\n",
      "--- fix upper boundary for troponin by nan\n",
      "--- fix lower boundary for troponin by nan\n",
      "--- fix upper boundary for ptt by nan\n",
      "--- fix lower boundary for ptt by nan\n",
      "--- fix upper boundary for lactate by nan\n",
      "--- fix lower boundary for lactate by nan\n",
      "--- fix upper boundary for bun by nan\n",
      "--- fix lower boundary for bun by nan\n",
      "--- fix upper boundary for magnesium by nan\n",
      "--- fix lower boundary for magnesium by nan\n",
      "--- prepare episodes for uva_5767\n",
      "Success! Output/responce variable mean in current sample space  --- \n",
      "y___neg_nbc    1.0\n",
      "y___pos        0.0\n",
      "dtype: float64\n",
      "--- prepare episodes for uva_2245\n",
      "Success! Output/responce variable mean in current sample space  --- \n",
      "y___neg_nbc    1.0\n",
      "y___pos        0.0\n",
      "dtype: float64\n",
      "--- prepare episodes for uva_2676\n",
      "Success! Output/responce variable mean in current sample space  --- \n",
      "y___neg_nbc    1.0\n",
      "y___pos        0.0\n",
      "dtype: float64\n",
      "--- prepare episodes for uva_8832\n",
      "Success! Output/responce variable mean in current sample space  --- \n",
      "y___neg_nbc    1.0\n",
      "y___pos        0.0\n",
      "dtype: float64\n",
      "--- prepare episodes for uva_1818\n",
      "Success! Output/responce variable mean in current sample space  --- \n",
      "y___neg_nbc    1.0\n",
      "y___pos        0.0\n",
      "dtype: float64\n",
      "--- prepare episodes for uva_5371\n",
      "Success! Output/responce variable mean in current sample space  --- \n",
      "y___neg_nbc    1.0\n",
      "y___pos        0.0\n",
      "dtype: float64\n",
      "--- prepare episodes for uva_2234\n",
      "Success! Output/responce variable mean in current sample space  --- \n",
      "y___neg_nbc    1.0\n",
      "y___pos        0.0\n",
      "dtype: float64\n",
      "--- prepare episodes for uva_6263\n",
      "Success! Output/responce variable mean in current sample space  --- \n",
      "y___neg_nbc    1.0\n",
      "y___pos        0.0\n",
      "dtype: float64\n",
      "--- prepare episodes for uva_1502\n",
      "Success! Output/responce variable mean in current sample space  --- \n",
      "y___neg_nbc    1.0\n",
      "y___pos        0.0\n",
      "dtype: float64\n",
      "--- prepare episodes for uva_4148\n",
      "Success! Output/responce variable mean in current sample space  --- \n",
      "y___neg_nbc    1.0\n",
      "y___pos        0.0\n",
      "dtype: float64\n",
      "--- prepare episodes for uva_6983\n",
      "Success! Output/responce variable mean in current sample space  --- \n",
      "y___neg_nbc    1.0\n",
      "y___pos        0.0\n",
      "dtype: float64\n",
      "--- prepare episodes for uva_1076\n",
      "Success! Output/responce variable mean in current sample space  --- \n",
      "y___neg_nbc    1.0\n",
      "y___pos        0.0\n",
      "dtype: float64\n",
      "--- prepare episodes for uva_9269\n",
      "Success! Output/responce variable mean in current sample space  --- \n",
      "y___neg_nbc    1.0\n",
      "y___pos        0.0\n",
      "dtype: float64\n",
      "--- prepare episodes for uva_1101\n",
      "Success! Output/responce variable mean in current sample space  --- \n",
      "y___neg_nbc    1.0\n",
      "y___pos        0.0\n",
      "dtype: float64\n",
      "--- prepare episodes for uva_9196\n",
      "Success! Output/responce variable mean in current sample space  --- \n",
      "y___neg_nbc    1.0\n",
      "y___pos        0.0\n",
      "dtype: float64\n",
      "--- prepare episodes for uva_6831\n",
      "Success! Output/responce variable mean in current sample space  --- \n",
      "y___neg_nbc    1.0\n",
      "y___pos        0.0\n",
      "dtype: float64\n",
      "--- prepare episodes for uva_9572\n",
      "Success! Output/responce variable mean in current sample space  --- \n",
      "y___neg_nbc    1.0\n",
      "y___pos        0.0\n",
      "dtype: float64\n",
      "--- prepare episodes for uva_3359\n",
      "Success! Output/responce variable mean in current sample space  --- \n",
      "y___neg_nbc    1.0\n",
      "y___pos        0.0\n",
      "dtype: float64\n",
      "--- prepare episodes for uva_3519\n",
      "Success! Output/responce variable mean in current sample space  --- \n",
      "y___neg_nbc    0.947368\n",
      "y___pos        0.052632\n",
      "dtype: float64\n",
      "--- prepare episodes for uva_4521\n",
      "Success! Output/responce variable mean in current sample space  --- \n",
      "y___neg_nbc    0.95\n",
      "y___pos        0.05\n",
      "dtype: float64\n",
      "--- prepare episodes for uva_9902\n",
      "Success! Output/responce variable mean in current sample space  --- \n",
      "y___neg_nbc    0.952381\n",
      "y___pos        0.047619\n",
      "dtype: float64\n",
      "--- prepare episodes for uva_1767\n",
      "Success! Output/responce variable mean in current sample space  --- \n",
      "y___neg_nbc    0.954545\n",
      "y___pos        0.045455\n",
      "dtype: float64\n",
      "--- prepare episodes for uva_7603\n",
      "Success! Output/responce variable mean in current sample space  --- \n",
      "y___neg_nbc    0.956522\n",
      "y___pos        0.043478\n",
      "dtype: float64\n",
      "--- prepare episodes for uva_7257\n",
      "Success! Output/responce variable mean in current sample space  --- \n",
      "y___neg_nbc    0.958333\n",
      "y___pos        0.041667\n",
      "dtype: float64\n",
      "--- prepare episodes for uva_7834\n",
      "Success! Output/responce variable mean in current sample space  --- \n",
      "y___neg_nbc    0.96\n",
      "y___pos        0.04\n",
      "dtype: float64\n",
      "--- prepare episodes for uva_7866\n",
      "Success! Output/responce variable mean in current sample space  --- \n",
      "y___neg_nbc    0.961538\n",
      "y___pos        0.038462\n",
      "dtype: float64\n",
      "--- prepare episodes for uva_9340\n",
      "Success! Output/responce variable mean in current sample space  --- \n",
      "y___neg_nbc    0.962963\n",
      "y___pos        0.037037\n",
      "dtype: float64\n",
      "--- prepare episodes for uva_2543\n",
      "Success! Output/responce variable mean in current sample space  --- \n",
      "y___neg_nbc    0.896552\n",
      "y___pos        0.103448\n",
      "dtype: float64\n",
      "--- prepare episodes for uva_8495\n",
      "Success! Output/responce variable mean in current sample space  --- \n",
      "y___neg_nbc    0.9\n",
      "y___pos        0.1\n",
      "dtype: float64\n",
      "--- prepare episodes for uva_2268\n",
      "Success! Output/responce variable mean in current sample space  --- \n",
      "y___neg_nbc    0.903226\n",
      "y___pos        0.096774\n",
      "dtype: float64\n",
      "--- prepare episodes for uva_7281\n",
      "Success! Output/responce variable mean in current sample space  --- \n",
      "y___neg_nbc    0.90625\n",
      "y___pos        0.09375\n",
      "dtype: float64\n",
      "--- prepare episodes for uva_8004\n",
      "Success! Output/responce variable mean in current sample space  --- \n",
      "y___neg_nbc    0.909091\n",
      "y___pos        0.090909\n",
      "dtype: float64\n",
      "--- prepare episodes for uva_2704\n",
      "Success! Output/responce variable mean in current sample space  --- \n",
      "y___neg_nbc    0.911765\n",
      "y___pos        0.088235\n",
      "dtype: float64\n",
      "--- prepare episodes for uva_1474\n",
      "Success! Output/responce variable mean in current sample space  --- \n",
      "y___neg_nbc    0.914286\n",
      "y___pos        0.085714\n",
      "dtype: float64\n",
      "--- prepare episodes for uva_9490\n",
      "Success! Output/responce variable mean in current sample space  --- \n",
      "y___neg_nbc    0.916667\n",
      "y___pos        0.083333\n",
      "dtype: float64\n",
      "--- prepare episodes for uva_7930\n"
     ]
    },
    {
     "name": "stdout",
     "output_type": "stream",
     "text": [
      "Success! Output/responce variable mean in current sample space  --- \n",
      "y___neg_nbc    0.894737\n",
      "y___pos        0.105263\n",
      "dtype: float64\n",
      "--- prepare episodes for uva_6523\n",
      "Success! Output/responce variable mean in current sample space  --- \n",
      "y___neg_nbc    0.897436\n",
      "y___pos        0.102564\n",
      "dtype: float64\n",
      "--- prepare episodes for uva_7999\n",
      "Success! Output/responce variable mean in current sample space  --- \n",
      "y___neg_nbc    0.9\n",
      "y___pos        0.1\n",
      "dtype: float64\n",
      "--- prepare episodes for uva_2426\n",
      "Success! Output/responce variable mean in current sample space  --- \n",
      "y___neg_nbc    0.902439\n",
      "y___pos        0.097561\n",
      "dtype: float64\n",
      "--- prepare episodes for uva_3177\n",
      "Success! Output/responce variable mean in current sample space  --- \n",
      "y___neg_nbc    0.904762\n",
      "y___pos        0.095238\n",
      "dtype: float64\n",
      "--- prepare episodes for uva_4189\n",
      "Success! Output/responce variable mean in current sample space  --- \n",
      "y___neg_nbc    0.906977\n",
      "y___pos        0.093023\n",
      "dtype: float64\n",
      "--- prepare episodes for uva_5574\n",
      "Success! Output/responce variable mean in current sample space  --- \n",
      "y___neg_nbc    0.909091\n",
      "y___pos        0.090909\n",
      "dtype: float64\n",
      "--- prepare episodes for uva_3550\n",
      "Success! Output/responce variable mean in current sample space  --- \n",
      "y___neg_nbc    0.911111\n",
      "y___pos        0.088889\n",
      "dtype: float64\n",
      "--- prepare episodes for uva_9577\n",
      "Success! Output/responce variable mean in current sample space  --- \n",
      "y___neg_nbc    0.913043\n",
      "y___pos        0.086957\n",
      "dtype: float64\n",
      "--- prepare episodes for uva_2224\n",
      "Success! Output/responce variable mean in current sample space  --- \n",
      "y___neg_nbc    0.914894\n",
      "y___pos        0.085106\n",
      "dtype: float64\n",
      "--- prepare episodes for uva_3062\n",
      "Success! Output/responce variable mean in current sample space  --- \n",
      "y___neg_nbc    0.916667\n",
      "y___pos        0.083333\n",
      "dtype: float64\n",
      "--- prepare episodes for uva_9363\n",
      "Success! Output/responce variable mean in current sample space  --- \n",
      "y___neg_nbc    0.9\n",
      "y___pos        0.1\n",
      "dtype: float64\n",
      "--- prepare episodes for uva_4938\n",
      "Success! Output/responce variable mean in current sample space  --- \n",
      "y___neg_nbc    0.901961\n",
      "y___pos        0.098039\n",
      "dtype: float64\n",
      "--- prepare episodes for uva_3066\n",
      "Success! Output/responce variable mean in current sample space  --- \n",
      "y___neg_nbc    0.903846\n",
      "y___pos        0.096154\n",
      "dtype: float64\n",
      "--- prepare episodes for uva_2009\n",
      "Success! Output/responce variable mean in current sample space  --- \n",
      "y___neg_nbc    0.90566\n",
      "y___pos        0.09434\n",
      "dtype: float64\n",
      "                 filename                                           fullname  \\\n",
      "246      uva_1101_lab.csv  /Users/jiaxingqiu/Documents/CAMA_projects/BSI/...   \n",
      "464    uva_9490_vital.csv  /Users/jiaxingqiu/Documents/CAMA_projects/BSI/...   \n",
      "2626     uva_6523_lab.csv  /Users/jiaxingqiu/Documents/CAMA_projects/BSI/...   \n",
      "2633   uva_2704_vital.csv  /Users/jiaxingqiu/Documents/CAMA_projects/BSI/...   \n",
      "2724     uva_3550_lab.csv  /Users/jiaxingqiu/Documents/CAMA_projects/BSI/...   \n",
      "...                   ...                                                ...   \n",
      "53644  uva_8832_vital.csv  /Users/jiaxingqiu/Documents/CAMA_projects/BSI/...   \n",
      "54526    uva_3066_lab.csv  /Users/jiaxingqiu/Documents/CAMA_projects/BSI/...   \n",
      "54545    uva_4148_lab.csv  /Users/jiaxingqiu/Documents/CAMA_projects/BSI/...   \n",
      "54973    uva_1502_lab.csv  /Users/jiaxingqiu/Documents/CAMA_projects/BSI/...   \n",
      "55681    uva_2543_lab.csv  /Users/jiaxingqiu/Documents/CAMA_projects/BSI/...   \n",
      "\n",
      "      source_key file_key    id     __uid  already_sampled  \n",
      "246          uva      lab  1101  uva_1101                1  \n",
      "464          uva    vital  9490  uva_9490                1  \n",
      "2626         uva      lab  6523  uva_6523                1  \n",
      "2633         uva    vital  2704  uva_2704                1  \n",
      "2724         uva      lab  3550  uva_3550                1  \n",
      "...          ...      ...   ...       ...              ...  \n",
      "53644        uva    vital  8832  uva_8832                1  \n",
      "54526        uva      lab  3066  uva_3066                1  \n",
      "54545        uva      lab  4148  uva_4148                1  \n",
      "54973        uva      lab  1502  uva_1502                1  \n",
      "55681        uva      lab  2543  uva_2543                1  \n",
      "\n",
      "[100 rows x 7 columns]\n",
      "Success! Engineer has updated attributes --- mvts_df, input_vars, output_vars. \n",
      "Success! Engineer has updated attributes --- train_df, valid_df and test_df. \n",
      "Success! Engineer has updated attributes --- train_df_imputed, valid_df_imputed and test_df_imputed. \n",
      "Success! Engineer has updated attributes --- train_tfds, valid_tfds and test_tfds. \n"
     ]
    }
   ],
   "source": [
    "# Build MVTS dataframe or tfds  (notice that the engineer now has new attributes)\n",
    "bsi_stream.engineer.BuildMVTS(csv_pool_path, \n",
    "                              nsbj = 50, # number of subjects / patients to sample from the pool \n",
    "                              replace=True,\n",
    "                              valid_frac = 0.2, # fraction of number of subjects in validation dataset\n",
    "                              test_frac = 0, # fraction of number of subjects in left-out test dataset\n",
    "                              batch_size = 64, # batch size (usually 32,64,128..)\n",
    "                              impute_input='median', # imputation on predictors\n",
    "                              impute_output='median' )# imputation on response (no need in BSI project)\n",
    "\n",
    "# please see the end of console \n",
    "# # --- Success! Engineer has updated attributes --- train_df_imputed, valid_df_imputed and test_df_imputed. \n",
    "# # --- Success! Engineer has updated attributes --- train_tfds, valid_tfds and test_tfds. "
   ]
  },
  {
   "cell_type": "code",
   "execution_count": 6,
   "metadata": {},
   "outputs": [
    {
     "name": "stdout",
     "output_type": "stream",
     "text": [
      "\n",
      "----------------------------- Engineer Attributes List ------------------------\n",
      "\n",
      "['work_dir', 'meta_dir', 'variable_dict', 'csv_source_dict', 'sql_source_dict', 'input_vars', 'output_vars', 'episode', 'sample_info', 'mvts_df', 'mvts_tfds', 'train_df', 'valid_df', 'test_df', 'train_df_imputed', 'valid_df_imputed', 'test_df_imputed', 'train_tfds', 'valid_tfds', 'test_tfds']\n",
      "\n",
      "------------------------------------- Inputs  --------------------------------- \n",
      "\n",
      "['txp___yes', 'txp___no', 'age___vital', 'temp___vital', 'heart_rate___vital', 'resp_rate___vital', 'spo2___vital', 'x_hr_rr___vital', 's_hr___vital', 's_rr___vital', 's_so2___vital', 'systolic_blood_pressure___vital', 'diastolic_blood_pressure___vital', 'glucose___vital', 'bilirubin___vital', 'potassium___vital', 'albumin___vital', 'calcium___vital', 'sodium___vital', 'wbc___vital', 'phosphorus___vital', 'creatinine___vital', 'platelet_count___vital', 'alt___vital', 'alp___vital', 'ast___vital', 'pco2___vital', 'chloride___vital', 'troponin___vital', 'ptt___vital', 'lactate___vital', 'bun___vital', 'magnesium___vital']\n",
      "\n",
      "------------------------------------- Outputs --------------------------------- \n",
      "\n",
      "['y___neg_nbc', 'y___pos']\n",
      "\n",
      "------------------ train_tfds / valid_tfds / test_tfds batch shape --------------\n",
      "\n",
      "Inputs shape (batch size, time bins, variables): (64, 48, 33)\n",
      "Labels shape (batch size, time bins, variables): (64, 24, 2)\n",
      "\n",
      "---------------------- train_df / train_df_imputed shape ---------------------- \n",
      "\n",
      "(142776, 40)\n",
      "\n",
      "---------------------- valid_df / valid_df_imputed shape ---------------------- \n",
      "\n",
      "(36288, 40)\n",
      "\n",
      "------------------------ test_df / test_df_imputed shape ---------------------- \n",
      "\n"
     ]
    }
   ],
   "source": [
    "bsi_stream.engineer.info()"
   ]
  },
  {
   "cell_type": "code",
   "execution_count": 7,
   "metadata": {},
   "outputs": [
    {
     "data": {
      "text/html": [
       "<div>\n",
       "<style scoped>\n",
       "    .dataframe tbody tr th:only-of-type {\n",
       "        vertical-align: middle;\n",
       "    }\n",
       "\n",
       "    .dataframe tbody tr th {\n",
       "        vertical-align: top;\n",
       "    }\n",
       "\n",
       "    .dataframe thead th {\n",
       "        text-align: right;\n",
       "    }\n",
       "</style>\n",
       "<table border=\"1\" class=\"dataframe\">\n",
       "  <thead>\n",
       "    <tr style=\"text-align: right;\">\n",
       "      <th></th>\n",
       "      <th>txp___yes</th>\n",
       "      <th>txp___no</th>\n",
       "      <th>age___vital</th>\n",
       "      <th>temp___vital</th>\n",
       "      <th>heart_rate___vital</th>\n",
       "      <th>resp_rate___vital</th>\n",
       "      <th>spo2___vital</th>\n",
       "      <th>x_hr_rr___vital</th>\n",
       "      <th>s_hr___vital</th>\n",
       "      <th>s_rr___vital</th>\n",
       "      <th>...</th>\n",
       "      <th>troponin___vital</th>\n",
       "      <th>ptt___vital</th>\n",
       "      <th>lactate___vital</th>\n",
       "      <th>bun___vital</th>\n",
       "      <th>magnesium___vital</th>\n",
       "      <th>y___neg_nbc</th>\n",
       "      <th>y___pos</th>\n",
       "      <th>__time_bin</th>\n",
       "      <th>__ep_relative_time</th>\n",
       "      <th>__ep_order</th>\n",
       "    </tr>\n",
       "  </thead>\n",
       "  <tbody>\n",
       "    <tr>\n",
       "      <td>count</td>\n",
       "      <td>142776.000000</td>\n",
       "      <td>142776.00000</td>\n",
       "      <td>142776.000000</td>\n",
       "      <td>76316.000000</td>\n",
       "      <td>45825.000000</td>\n",
       "      <td>42080.000000</td>\n",
       "      <td>44848.000000</td>\n",
       "      <td>41061.000000</td>\n",
       "      <td>45825.000000</td>\n",
       "      <td>42080.000000</td>\n",
       "      <td>...</td>\n",
       "      <td>31417.000000</td>\n",
       "      <td>80335.000000</td>\n",
       "      <td>67025.000000</td>\n",
       "      <td>93189.000000</td>\n",
       "      <td>82264.000000</td>\n",
       "      <td>142776.000000</td>\n",
       "      <td>142776.000000</td>\n",
       "      <td>142776.000000</td>\n",
       "      <td>142776.000000</td>\n",
       "      <td>142776.000000</td>\n",
       "    </tr>\n",
       "    <tr>\n",
       "      <td>mean</td>\n",
       "      <td>0.030257</td>\n",
       "      <td>0.96117</td>\n",
       "      <td>58.602622</td>\n",
       "      <td>98.295268</td>\n",
       "      <td>92.482934</td>\n",
       "      <td>22.598492</td>\n",
       "      <td>96.976497</td>\n",
       "      <td>0.230553</td>\n",
       "      <td>4.036894</td>\n",
       "      <td>4.558045</td>\n",
       "      <td>...</td>\n",
       "      <td>0.624635</td>\n",
       "      <td>32.633330</td>\n",
       "      <td>2.300009</td>\n",
       "      <td>28.961651</td>\n",
       "      <td>1.886244</td>\n",
       "      <td>0.871911</td>\n",
       "      <td>0.128089</td>\n",
       "      <td>62.371407</td>\n",
       "      <td>-750.000000</td>\n",
       "      <td>1.176500</td>\n",
       "    </tr>\n",
       "    <tr>\n",
       "      <td>std</td>\n",
       "      <td>0.171295</td>\n",
       "      <td>0.19319</td>\n",
       "      <td>16.657619</td>\n",
       "      <td>1.671838</td>\n",
       "      <td>19.667199</td>\n",
       "      <td>7.179132</td>\n",
       "      <td>2.732927</td>\n",
       "      <td>0.198027</td>\n",
       "      <td>3.093936</td>\n",
       "      <td>3.245720</td>\n",
       "      <td>...</td>\n",
       "      <td>2.435861</td>\n",
       "      <td>11.112479</td>\n",
       "      <td>2.254231</td>\n",
       "      <td>23.834256</td>\n",
       "      <td>0.410838</td>\n",
       "      <td>0.334190</td>\n",
       "      <td>0.334190</td>\n",
       "      <td>506.573198</td>\n",
       "      <td>1246.960661</td>\n",
       "      <td>0.557455</td>\n",
       "    </tr>\n",
       "    <tr>\n",
       "      <td>min</td>\n",
       "      <td>0.000000</td>\n",
       "      <td>0.00000</td>\n",
       "      <td>15.120965</td>\n",
       "      <td>68.000000</td>\n",
       "      <td>41.161709</td>\n",
       "      <td>5.470924</td>\n",
       "      <td>79.000000</td>\n",
       "      <td>-0.698715</td>\n",
       "      <td>0.000000</td>\n",
       "      <td>0.000000</td>\n",
       "      <td>...</td>\n",
       "      <td>0.020000</td>\n",
       "      <td>19.200000</td>\n",
       "      <td>0.200000</td>\n",
       "      <td>2.000000</td>\n",
       "      <td>0.600000</td>\n",
       "      <td>0.000000</td>\n",
       "      <td>0.000000</td>\n",
       "      <td>-4259.000000</td>\n",
       "      <td>-2880.000000</td>\n",
       "      <td>1.000000</td>\n",
       "    </tr>\n",
       "    <tr>\n",
       "      <td>25%</td>\n",
       "      <td>0.000000</td>\n",
       "      <td>1.00000</td>\n",
       "      <td>48.803673</td>\n",
       "      <td>97.500000</td>\n",
       "      <td>78.288889</td>\n",
       "      <td>17.731258</td>\n",
       "      <td>95.496713</td>\n",
       "      <td>0.092463</td>\n",
       "      <td>2.075767</td>\n",
       "      <td>1.949786</td>\n",
       "      <td>...</td>\n",
       "      <td>0.030000</td>\n",
       "      <td>26.200000</td>\n",
       "      <td>1.100000</td>\n",
       "      <td>13.000000</td>\n",
       "      <td>1.600000</td>\n",
       "      <td>1.000000</td>\n",
       "      <td>0.000000</td>\n",
       "      <td>-25.000000</td>\n",
       "      <td>-1815.000000</td>\n",
       "      <td>1.000000</td>\n",
       "    </tr>\n",
       "    <tr>\n",
       "      <td>50%</td>\n",
       "      <td>0.000000</td>\n",
       "      <td>1.00000</td>\n",
       "      <td>59.734272</td>\n",
       "      <td>98.200000</td>\n",
       "      <td>90.950164</td>\n",
       "      <td>21.478056</td>\n",
       "      <td>97.525039</td>\n",
       "      <td>0.211081</td>\n",
       "      <td>3.290970</td>\n",
       "      <td>4.072824</td>\n",
       "      <td>...</td>\n",
       "      <td>0.070000</td>\n",
       "      <td>29.600000</td>\n",
       "      <td>1.600000</td>\n",
       "      <td>21.000000</td>\n",
       "      <td>1.900000</td>\n",
       "      <td>1.000000</td>\n",
       "      <td>0.000000</td>\n",
       "      <td>-4.000000</td>\n",
       "      <td>-750.000000</td>\n",
       "      <td>1.000000</td>\n",
       "    </tr>\n",
       "    <tr>\n",
       "      <td>75%</td>\n",
       "      <td>0.000000</td>\n",
       "      <td>1.00000</td>\n",
       "      <td>71.130690</td>\n",
       "      <td>99.000000</td>\n",
       "      <td>105.552295</td>\n",
       "      <td>26.370418</td>\n",
       "      <td>99.143364</td>\n",
       "      <td>0.355420</td>\n",
       "      <td>5.017628</td>\n",
       "      <td>6.623859</td>\n",
       "      <td>...</td>\n",
       "      <td>0.230000</td>\n",
       "      <td>34.800000</td>\n",
       "      <td>2.600000</td>\n",
       "      <td>36.000000</td>\n",
       "      <td>2.100000</td>\n",
       "      <td>1.000000</td>\n",
       "      <td>0.000000</td>\n",
       "      <td>17.000000</td>\n",
       "      <td>315.000000</td>\n",
       "      <td>1.000000</td>\n",
       "    </tr>\n",
       "    <tr>\n",
       "      <td>max</td>\n",
       "      <td>1.000000</td>\n",
       "      <td>1.00000</td>\n",
       "      <td>90.000000</td>\n",
       "      <td>104.866667</td>\n",
       "      <td>168.179487</td>\n",
       "      <td>70.148799</td>\n",
       "      <td>100.000000</td>\n",
       "      <td>0.931858</td>\n",
       "      <td>42.117348</td>\n",
       "      <td>20.130030</td>\n",
       "      <td>...</td>\n",
       "      <td>27.050000</td>\n",
       "      <td>138.300000</td>\n",
       "      <td>27.000000</td>\n",
       "      <td>194.000000</td>\n",
       "      <td>6.900000</td>\n",
       "      <td>1.000000</td>\n",
       "      <td>1.000000</td>\n",
       "      <td>16477.000000</td>\n",
       "      <td>1380.000000</td>\n",
       "      <td>8.000000</td>\n",
       "    </tr>\n",
       "  </tbody>\n",
       "</table>\n",
       "<p>8 rows × 38 columns</p>\n",
       "</div>"
      ],
      "text/plain": [
       "           txp___yes      txp___no    age___vital  temp___vital  \\\n",
       "count  142776.000000  142776.00000  142776.000000  76316.000000   \n",
       "mean        0.030257       0.96117      58.602622     98.295268   \n",
       "std         0.171295       0.19319      16.657619      1.671838   \n",
       "min         0.000000       0.00000      15.120965     68.000000   \n",
       "25%         0.000000       1.00000      48.803673     97.500000   \n",
       "50%         0.000000       1.00000      59.734272     98.200000   \n",
       "75%         0.000000       1.00000      71.130690     99.000000   \n",
       "max         1.000000       1.00000      90.000000    104.866667   \n",
       "\n",
       "       heart_rate___vital  resp_rate___vital  spo2___vital  x_hr_rr___vital  \\\n",
       "count        45825.000000       42080.000000  44848.000000     41061.000000   \n",
       "mean            92.482934          22.598492     96.976497         0.230553   \n",
       "std             19.667199           7.179132      2.732927         0.198027   \n",
       "min             41.161709           5.470924     79.000000        -0.698715   \n",
       "25%             78.288889          17.731258     95.496713         0.092463   \n",
       "50%             90.950164          21.478056     97.525039         0.211081   \n",
       "75%            105.552295          26.370418     99.143364         0.355420   \n",
       "max            168.179487          70.148799    100.000000         0.931858   \n",
       "\n",
       "       s_hr___vital  s_rr___vital  ...  troponin___vital   ptt___vital  \\\n",
       "count  45825.000000  42080.000000  ...      31417.000000  80335.000000   \n",
       "mean       4.036894      4.558045  ...          0.624635     32.633330   \n",
       "std        3.093936      3.245720  ...          2.435861     11.112479   \n",
       "min        0.000000      0.000000  ...          0.020000     19.200000   \n",
       "25%        2.075767      1.949786  ...          0.030000     26.200000   \n",
       "50%        3.290970      4.072824  ...          0.070000     29.600000   \n",
       "75%        5.017628      6.623859  ...          0.230000     34.800000   \n",
       "max       42.117348     20.130030  ...         27.050000    138.300000   \n",
       "\n",
       "       lactate___vital   bun___vital  magnesium___vital    y___neg_nbc  \\\n",
       "count     67025.000000  93189.000000       82264.000000  142776.000000   \n",
       "mean          2.300009     28.961651           1.886244       0.871911   \n",
       "std           2.254231     23.834256           0.410838       0.334190   \n",
       "min           0.200000      2.000000           0.600000       0.000000   \n",
       "25%           1.100000     13.000000           1.600000       1.000000   \n",
       "50%           1.600000     21.000000           1.900000       1.000000   \n",
       "75%           2.600000     36.000000           2.100000       1.000000   \n",
       "max          27.000000    194.000000           6.900000       1.000000   \n",
       "\n",
       "             y___pos     __time_bin  __ep_relative_time     __ep_order  \n",
       "count  142776.000000  142776.000000       142776.000000  142776.000000  \n",
       "mean        0.128089      62.371407         -750.000000       1.176500  \n",
       "std         0.334190     506.573198         1246.960661       0.557455  \n",
       "min         0.000000   -4259.000000        -2880.000000       1.000000  \n",
       "25%         0.000000     -25.000000        -1815.000000       1.000000  \n",
       "50%         0.000000      -4.000000         -750.000000       1.000000  \n",
       "75%         0.000000      17.000000          315.000000       1.000000  \n",
       "max         1.000000   16477.000000         1380.000000       8.000000  \n",
       "\n",
       "[8 rows x 38 columns]"
      ]
     },
     "execution_count": 7,
     "metadata": {},
     "output_type": "execute_result"
    }
   ],
   "source": [
    "bsi_stream.engineer.train_df.describe()"
   ]
  },
  {
   "cell_type": "code",
   "execution_count": 8,
   "metadata": {},
   "outputs": [
    {
     "name": "stderr",
     "output_type": "stream",
     "text": [
      "/opt/anaconda3/lib/python3.7/site-packages/pandas/plotting/_matplotlib/tools.py:188: RuntimeWarning: More than 20 figures have been opened. Figures created through the pyplot interface (`matplotlib.pyplot.figure`) are retained until explicitly closed and may consume too much memory. (To control this warning, see the rcParam `figure.max_open_warning`).\n",
      "  fig = plt.figure(**fig_kw)\n"
     ]
    },
    {
     "ename": "ValueError",
     "evalue": "hist method requires numerical columns, nothing to plot.",
     "output_type": "error",
     "traceback": [
      "\u001b[0;31m---------------------------------------------------------------------------\u001b[0m",
      "\u001b[0;31mValueError\u001b[0m                                Traceback (most recent call last)",
      "\u001b[0;32m<ipython-input-8-426efaeff97a>\u001b[0m in \u001b[0;36m<module>\u001b[0;34m\u001b[0m\n\u001b[1;32m      1\u001b[0m \u001b[0mdf\u001b[0m \u001b[0;34m=\u001b[0m \u001b[0mbsi_stream\u001b[0m\u001b[0;34m.\u001b[0m\u001b[0mengineer\u001b[0m\u001b[0;34m.\u001b[0m\u001b[0mtrain_df\u001b[0m\u001b[0;34m\u001b[0m\u001b[0;34m\u001b[0m\u001b[0m\n\u001b[1;32m      2\u001b[0m \u001b[0;32mfor\u001b[0m \u001b[0mcol\u001b[0m \u001b[0;32min\u001b[0m \u001b[0mdf\u001b[0m\u001b[0;34m.\u001b[0m\u001b[0mcolumns\u001b[0m\u001b[0;34m:\u001b[0m\u001b[0;34m\u001b[0m\u001b[0;34m\u001b[0m\u001b[0m\n\u001b[0;32m----> 3\u001b[0;31m     \u001b[0mdf\u001b[0m\u001b[0;34m.\u001b[0m\u001b[0mhist\u001b[0m\u001b[0;34m(\u001b[0m\u001b[0mcolumn\u001b[0m\u001b[0;34m=\u001b[0m\u001b[0mcol\u001b[0m\u001b[0;34m,\u001b[0m \u001b[0mbins\u001b[0m\u001b[0;34m=\u001b[0m\u001b[0;36m100\u001b[0m\u001b[0;34m)\u001b[0m\u001b[0;34m;\u001b[0m\u001b[0;34m\u001b[0m\u001b[0;34m\u001b[0m\u001b[0m\n\u001b[0m",
      "\u001b[0;32m/opt/anaconda3/lib/python3.7/site-packages/pandas/plotting/_core.py\u001b[0m in \u001b[0;36mhist_frame\u001b[0;34m(data, column, by, grid, xlabelsize, xrot, ylabelsize, yrot, ax, sharex, sharey, figsize, layout, bins, **kwds)\u001b[0m\n\u001b[1;32m    197\u001b[0m         \u001b[0mlayout\u001b[0m\u001b[0;34m=\u001b[0m\u001b[0mlayout\u001b[0m\u001b[0;34m,\u001b[0m\u001b[0;34m\u001b[0m\u001b[0;34m\u001b[0m\u001b[0m\n\u001b[1;32m    198\u001b[0m         \u001b[0mbins\u001b[0m\u001b[0;34m=\u001b[0m\u001b[0mbins\u001b[0m\u001b[0;34m,\u001b[0m\u001b[0;34m\u001b[0m\u001b[0;34m\u001b[0m\u001b[0m\n\u001b[0;32m--> 199\u001b[0;31m         \u001b[0;34m**\u001b[0m\u001b[0mkwds\u001b[0m\u001b[0;34m\u001b[0m\u001b[0;34m\u001b[0m\u001b[0m\n\u001b[0m\u001b[1;32m    200\u001b[0m     )\n\u001b[1;32m    201\u001b[0m \u001b[0;34m\u001b[0m\u001b[0m\n",
      "\u001b[0;32m/opt/anaconda3/lib/python3.7/site-packages/pandas/plotting/_matplotlib/hist.py\u001b[0m in \u001b[0;36mhist_frame\u001b[0;34m(data, column, by, grid, xlabelsize, xrot, ylabelsize, yrot, ax, sharex, sharey, figsize, layout, bins, **kwds)\u001b[0m\n\u001b[1;32m    395\u001b[0m \u001b[0;34m\u001b[0m\u001b[0m\n\u001b[1;32m    396\u001b[0m     \u001b[0;32mif\u001b[0m \u001b[0mnaxes\u001b[0m \u001b[0;34m==\u001b[0m \u001b[0;36m0\u001b[0m\u001b[0;34m:\u001b[0m\u001b[0;34m\u001b[0m\u001b[0;34m\u001b[0m\u001b[0m\n\u001b[0;32m--> 397\u001b[0;31m         \u001b[0;32mraise\u001b[0m \u001b[0mValueError\u001b[0m\u001b[0;34m(\u001b[0m\u001b[0;34m\"hist method requires numerical columns, \"\u001b[0m \u001b[0;34m\"nothing to plot.\"\u001b[0m\u001b[0;34m)\u001b[0m\u001b[0;34m\u001b[0m\u001b[0;34m\u001b[0m\u001b[0m\n\u001b[0m\u001b[1;32m    398\u001b[0m \u001b[0;34m\u001b[0m\u001b[0m\n\u001b[1;32m    399\u001b[0m     fig, axes = _subplots(\n",
      "\u001b[0;31mValueError\u001b[0m: hist method requires numerical columns, nothing to plot."
     ]
    },
    {
     "data": {
      "image/png": "[encoded data removed]",
      "text/plain": [
       "<Figure size 432x288 with 1 Axes>"
      ]
     },
     "metadata": {
      "needs_background": "light"
     },
     "output_type": "display_data"
    },
    {
     "data": {
      "image/png": "[encoded data removed]",
      "text/plain": [
       "<Figure size 432x288 with 1 Axes>"
      ]
     },
     "metadata": {
      "needs_background": "light"
     },
     "output_type": "display_data"
    },
    {
     "data": {
      "image/png": "[encoded data removed]",
      "text/plain": [
       "<Figure size 432x288 with 1 Axes>"
      ]
     },
     "metadata": {
      "needs_background": "light"
     },
     "output_type": "display_data"
    },
    {
     "data": {
      "image/png": "[encoded data removed]",
      "text/plain": [
       "<Figure size 432x288 with 1 Axes>"
      ]
     },
     "metadata": {
      "needs_background": "light"
     },
     "output_type": "display_data"
    },
    {
     "data": {
      "image/png": "[encoded data removed]",
      "text/plain": [
       "<Figure size 432x288 with 1 Axes>"
      ]
     },
     "metadata": {
      "needs_background": "light"
     },
     "output_type": "display_data"
    },
    {
     "data": {
      "image/png": "[encoded data removed]",
      "text/plain": [
       "<Figure size 432x288 with 1 Axes>"
      ]
     },
     "metadata": {
      "needs_background": "light"
     },
     "output_type": "display_data"
    },
    {
     "data": {
      "image/png": "[encoded data removed]",
      "text/plain": [
       "<Figure size 432x288 with 1 Axes>"
      ]
     },
     "metadata": {
      "needs_background": "light"
     },
     "output_type": "display_data"
    },
    {
     "data": {
      "image/png": "[encoded data removed]",
      "text/plain": [
       "<Figure size 432x288 with 1 Axes>"
      ]
     },
     "metadata": {
      "needs_background": "light"
     },
     "output_type": "display_data"
    },
    {
     "data": {
      "image/png": "[encoded data removed]",
      "text/plain": [
       "<Figure size 432x288 with 1 Axes>"
      ]
     },
     "metadata": {
      "needs_background": "light"
     },
     "output_type": "display_data"
    },
    {
     "data": {
      "image/png": "[encoded data removed]",
      "text/plain": [
       "<Figure size 432x288 with 1 Axes>"
      ]
     },
     "metadata": {
      "needs_background": "light"
     },
     "output_type": "display_data"
    },
    {
     "data": {
      "image/png": "[encoded data removed]",
      "text/plain": [
       "<Figure size 432x288 with 1 Axes>"
      ]
     },
     "metadata": {
      "needs_background": "light"
     },
     "output_type": "display_data"
    },
    {
     "data": {
      "image/png": "[encoded data removed]",
      "text/plain": [
       "<Figure size 432x288 with 1 Axes>"
      ]
     },
     "metadata": {
      "needs_background": "light"
     },
     "output_type": "display_data"
    },
    {
     "data": {
      "image/png": "[encoded data removed]",
      "text/plain": [
       "<Figure size 432x288 with 1 Axes>"
      ]
     },
     "metadata": {
      "needs_background": "light"
     },
     "output_type": "display_data"
    },
    {
     "data": {
      "image/png": "[encoded data removed]",
      "text/plain": [
       "<Figure size 432x288 with 1 Axes>"
      ]
     },
     "metadata": {
      "needs_background": "light"
     },
     "output_type": "display_data"
    },
    {
     "data": {
      "image/png": "[encoded data removed]",
      "text/plain": [
       "<Figure size 432x288 with 1 Axes>"
      ]
     },
     "metadata": {
      "needs_background": "light"
     },
     "output_type": "display_data"
    },
    {
     "data": {
      "image/png": "[encoded data removed]",
      "text/plain": [
       "<Figure size 432x288 with 1 Axes>"
      ]
     },
     "metadata": {
      "needs_background": "light"
     },
     "output_type": "display_data"
    },
    {
     "data": {
      "image/png": "[encoded data removed]",
      "text/plain": [
       "<Figure size 432x288 with 1 Axes>"
      ]
     },
     "metadata": {
      "needs_background": "light"
     },
     "output_type": "display_data"
    },
    {
     "data": {
      "image/png": "[encoded data removed]",
      "text/plain": [
       "<Figure size 432x288 with 1 Axes>"
      ]
     },
     "metadata": {
      "needs_background": "light"
     },
     "output_type": "display_data"
    },
    {
     "data": {
      "image/png": "[encoded data removed]",
      "text/plain": [
       "<Figure size 432x288 with 1 Axes>"
      ]
     },
     "metadata": {
      "needs_background": "light"
     },
     "output_type": "display_data"
    },
    {
     "data": {
      "image/png": "[encoded data removed]",
      "text/plain": [
       "<Figure size 432x288 with 1 Axes>"
      ]
     },
     "metadata": {
      "needs_background": "light"
     },
     "output_type": "display_data"
    },
    {
     "data": {
      "image/png": "[encoded data removed]",
      "text/plain": [
       "<Figure size 432x288 with 1 Axes>"
      ]
     },
     "metadata": {
      "needs_background": "light"
     },
     "output_type": "display_data"
    },
    {
     "data": {
      "image/png": "[encoded data removed]",
      "text/plain": [
       "<Figure size 432x288 with 1 Axes>"
      ]
     },
     "metadata": {
      "needs_background": "light"
     },
     "output_type": "display_data"
    },
    {
     "data": {
      "image/png": "[encoded data removed]",
      "text/plain": [
       "<Figure size 432x288 with 1 Axes>"
      ]
     },
     "metadata": {
      "needs_background": "light"
     },
     "output_type": "display_data"
    },
    {
     "data": {
      "image/png": "[encoded data removed]",
      "text/plain": [
       "<Figure size 432x288 with 1 Axes>"
      ]
     },
     "metadata": {
      "needs_background": "light"
     },
     "output_type": "display_data"
    },
    {
     "data": {
      "image/png": "[encoded data removed]",
      "text/plain": [
       "<Figure size 432x288 with 1 Axes>"
      ]
     },
     "metadata": {
      "needs_background": "light"
     },
     "output_type": "display_data"
    },
    {
     "data": {
      "image/png": "[encoded data removed]",
      "text/plain": [
       "<Figure size 432x288 with 1 Axes>"
      ]
     },
     "metadata": {
      "needs_background": "light"
     },
     "output_type": "display_data"
    },
    {
     "data": {
      "image/png": "[encoded data removed]",
      "text/plain": [
       "<Figure size 432x288 with 1 Axes>"
      ]
     },
     "metadata": {
      "needs_background": "light"
     },
     "output_type": "display_data"
    },
    {
     "data": {
      "image/png": "[encoded data removed]",
      "text/plain": [
       "<Figure size 432x288 with 1 Axes>"
      ]
     },
     "metadata": {
      "needs_background": "light"
     },
     "output_type": "display_data"
    },
    {
     "data": {
      "image/png": "[encoded data removed]",
      "text/plain": [
       "<Figure size 432x288 with 1 Axes>"
      ]
     },
     "metadata": {
      "needs_background": "light"
     },
     "output_type": "display_data"
    },
    {
     "data": {
      "image/png": "[encoded data removed]",
      "text/plain": [
       "<Figure size 432x288 with 1 Axes>"
      ]
     },
     "metadata": {
      "needs_background": "light"
     },
     "output_type": "display_data"
    },
    {
     "data": {
      "image/png": "[encoded data removed]",
      "text/plain": [
       "<Figure size 432x288 with 1 Axes>"
      ]
     },
     "metadata": {
      "needs_background": "light"
     },
     "output_type": "display_data"
    },
    {
     "data": {
      "image/png": "[encoded data removed]",
      "text/plain": [
       "<Figure size 432x288 with 1 Axes>"
      ]
     },
     "metadata": {
      "needs_background": "light"
     },
     "output_type": "display_data"
    },
    {
     "data": {
      "image/png": "[encoded data removed]",
      "text/plain": [
       "<Figure size 432x288 with 1 Axes>"
      ]
     },
     "metadata": {
      "needs_background": "light"
     },
     "output_type": "display_data"
    },
    {
     "data": {
      "image/png": "[encoded data removed]",
      "text/plain": [
       "<Figure size 432x288 with 1 Axes>"
      ]
     },
     "metadata": {
      "needs_background": "light"
     },
     "output_type": "display_data"
    },
    {
     "data": {
      "image/png": "[encoded data removed]",
      "text/plain": [
       "<Figure size 432x288 with 1 Axes>"
      ]
     },
     "metadata": {
      "needs_background": "light"
     },
     "output_type": "display_data"
    },
    {
     "data": {
      "image/png": "[encoded data removed]",
      "text/plain": [
       "<Figure size 432x288 with 1 Axes>"
      ]
     },
     "metadata": {
      "needs_background": "light"
     },
     "output_type": "display_data"
    }
   ],
   "source": [
    "df = bsi_stream.engineer.train_df\n",
    "for col in df.columns:\n",
    "    df.hist(column=col, bins=100);"
   ]
  },
  {
   "cell_type": "code",
   "execution_count": 9,
   "metadata": {},
   "outputs": [],
   "source": [
    "# save raw dataframe in a csv\n",
    "bsi_stream.engineer.train_df.to_csv(\"./train_df.csv\", index=False)\n",
    "bsi_stream.engineer.valid_df.to_csv(\"./valid_df.csv\", index=False)\n"
   ]
  },
  {
   "cell_type": "code",
   "execution_count": 10,
   "metadata": {},
   "outputs": [],
   "source": [
    "# save median imputed dataframe in a csv\n",
    "bsi_stream.engineer.train_df_imputed.to_csv(\"./train_df_median.csv\", index=False)\n",
    "bsi_stream.engineer.valid_df_imputed.to_csv(\"./valid_df_median.csv\", index=False)\n"
   ]
  },
  {
   "cell_type": "code",
   "execution_count": null,
   "metadata": {},
   "outputs": [],
   "source": [
    "# save "
   ]
  }
 ],
 "metadata": {
  "kernelspec": {
   "display_name": "Python 3",
   "language": "python",
   "name": "python3"
  },
  "language_info": {
   "codemirror_mode": {
    "name": "ipython",
    "version": 3
   },
   "file_extension": ".py",
   "mimetype": "text/x-python",
   "name": "python",
   "nbconvert_exporter": "python",
   "pygments_lexer": "ipython3",
   "version": "3.7.4"
  }
 },
 "nbformat": 4,
 "nbformat_minor": 2
}
